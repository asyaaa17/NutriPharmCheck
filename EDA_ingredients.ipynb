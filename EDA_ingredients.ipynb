{
 "cells": [
  {
   "cell_type": "markdown",
   "metadata": {},
   "source": [
    "### Исследование таблицы \"Ингредиенты\""
   ]
  },
  {
   "cell_type": "code",
   "execution_count": 1,
   "metadata": {},
   "outputs": [],
   "source": [
    "import pandas as pd\n",
    "import numpy as np\n",
    "import seaborn as sns\n",
    "import matplotlib.pyplot as plt"
   ]
  },
  {
   "cell_type": "code",
   "execution_count": 2,
   "metadata": {},
   "outputs": [],
   "source": [
    "df = pd.read_excel(\"./data/new_vitamins.xlsx\")"
   ]
  },
  {
   "cell_type": "code",
   "execution_count": 3,
   "metadata": {},
   "outputs": [
    {
     "data": {
      "text/html": [
       "<div>\n",
       "<style scoped>\n",
       "    .dataframe tbody tr th:only-of-type {\n",
       "        vertical-align: middle;\n",
       "    }\n",
       "\n",
       "    .dataframe tbody tr th {\n",
       "        vertical-align: top;\n",
       "    }\n",
       "\n",
       "    .dataframe thead th {\n",
       "        text-align: right;\n",
       "    }\n",
       "</style>\n",
       "<table border=\"1\" class=\"dataframe\">\n",
       "  <thead>\n",
       "    <tr style=\"text-align: right;\">\n",
       "      <th></th>\n",
       "      <th>ID ингридиента БАДа</th>\n",
       "      <th>Название ингридиента БАДа</th>\n",
       "      <th>Взаимодействие с пищевыми продуктами</th>\n",
       "      <th>Рекомендуемая суточная доза</th>\n",
       "      <th>Верхний уровень безопасного потребления</th>\n",
       "    </tr>\n",
       "  </thead>\n",
       "  <tbody>\n",
       "    <tr>\n",
       "      <th>0</th>\n",
       "      <td>V000000001</td>\n",
       "      <td>-</td>\n",
       "      <td>Взаимодействия не найдены.</td>\n",
       "      <td>NaN</td>\n",
       "      <td>NaN</td>\n",
       "    </tr>\n",
       "    <tr>\n",
       "      <th>1</th>\n",
       "      <td>V000000002</td>\n",
       "      <td>5-гидрокситриптофан</td>\n",
       "      <td>Взаимодействия не найдены.</td>\n",
       "      <td>NaN</td>\n",
       "      <td>NaN</td>\n",
       "    </tr>\n",
       "    <tr>\n",
       "      <th>2</th>\n",
       "      <td>V000000004</td>\n",
       "      <td>A</td>\n",
       "      <td>Взаимодействия не найдены.</td>\n",
       "      <td>NaN</td>\n",
       "      <td>NaN</td>\n",
       "    </tr>\n",
       "    <tr>\n",
       "      <th>3</th>\n",
       "      <td>V000000005</td>\n",
       "      <td>B1</td>\n",
       "      <td>Взаимодействия не найдены.</td>\n",
       "      <td>NaN</td>\n",
       "      <td>NaN</td>\n",
       "    </tr>\n",
       "    <tr>\n",
       "      <th>4</th>\n",
       "      <td>V000000006</td>\n",
       "      <td>B12</td>\n",
       "      <td>Принимайте независимо от приема пищи. Рекоменд...</td>\n",
       "      <td>NaN</td>\n",
       "      <td>NaN</td>\n",
       "    </tr>\n",
       "  </tbody>\n",
       "</table>\n",
       "</div>"
      ],
      "text/plain": [
       "  ID ингридиента БАДа Название ингридиента БАДа   \n",
       "0          V000000001                         -  \\\n",
       "1          V000000002       5-гидрокситриптофан   \n",
       "2          V000000004                         A   \n",
       "3          V000000005                        B1   \n",
       "4          V000000006                       B12   \n",
       "\n",
       "                Взаимодействие с пищевыми продуктами   \n",
       "0                         Взаимодействия не найдены.  \\\n",
       "1                         Взаимодействия не найдены.   \n",
       "2                         Взаимодействия не найдены.   \n",
       "3                         Взаимодействия не найдены.   \n",
       "4  Принимайте независимо от приема пищи. Рекоменд...   \n",
       "\n",
       "   Рекомендуемая суточная доза  Верхний уровень безопасного потребления  \n",
       "0                          NaN                                      NaN  \n",
       "1                          NaN                                      NaN  \n",
       "2                          NaN                                      NaN  \n",
       "3                          NaN                                      NaN  \n",
       "4                          NaN                                      NaN  "
      ]
     },
     "execution_count": 3,
     "metadata": {},
     "output_type": "execute_result"
    }
   ],
   "source": [
    "df.head()"
   ]
  },
  {
   "cell_type": "code",
   "execution_count": 4,
   "metadata": {},
   "outputs": [
    {
     "name": "stdout",
     "output_type": "stream",
     "text": [
      "<class 'pandas.core.frame.DataFrame'>\n",
      "RangeIndex: 375 entries, 0 to 374\n",
      "Data columns (total 5 columns):\n",
      " #   Column                                   Non-Null Count  Dtype  \n",
      "---  ------                                   --------------  -----  \n",
      " 0   ID ингридиента БАДа                      375 non-null    object \n",
      " 1   Название ингридиента БАДа                375 non-null    object \n",
      " 2   Взаимодействие с пищевыми продуктами     375 non-null    object \n",
      " 3   Рекомендуемая суточная доза              0 non-null      float64\n",
      " 4   Верхний уровень безопасного потребления  0 non-null      float64\n",
      "dtypes: float64(2), object(3)\n",
      "memory usage: 14.8+ KB\n"
     ]
    }
   ],
   "source": [
    "df.info()"
   ]
  },
  {
   "cell_type": "markdown",
   "metadata": {},
   "source": [
    "Всего в базе 375 ингредиентов, из которых одни не определен (-). Ищем информацию по пропущенным ингредиентам.\n",
    "\n",
    "Два столбца - Рекомендуемая суточная доза и Верхний уровень безопасного потребления пока не заполнены, информация собирается."
   ]
  },
  {
   "cell_type": "code",
   "execution_count": 5,
   "metadata": {},
   "outputs": [],
   "source": [
    "df.drop([\"Рекомендуемая суточная доза\", \"Верхний уровень безопасного потребления\"], axis=1, inplace=True)"
   ]
  },
  {
   "cell_type": "markdown",
   "metadata": {},
   "source": [
    "Для исследования возьмем столбец \"Взаимодействие с пищевыми продуктами\", т.к. в остальных столбцах - названия ингредиентов и их ID в БД"
   ]
  },
  {
   "cell_type": "code",
   "execution_count": 6,
   "metadata": {},
   "outputs": [
    {
     "data": {
      "text/plain": [
       "22"
      ]
     },
     "execution_count": 6,
     "metadata": {},
     "output_type": "execute_result"
    }
   ],
   "source": [
    "df[\"Взаимодействие с пищевыми продуктами\"].nunique()"
   ]
  },
  {
   "cell_type": "markdown",
   "metadata": {},
   "source": [
    "Всего 22 уникальных значения взаимодействия"
   ]
  },
  {
   "cell_type": "code",
   "execution_count": 7,
   "metadata": {},
   "outputs": [
    {
     "data": {
      "text/plain": [
       "Взаимодействие с пищевыми продуктами\n",
       "Взаимодействия не найдены.                                                                                                                                                                                                                                                                                                                                                                                                                                                                                                                                                                                      328\n",
       "Принимать во время еды.                                                                                                                                                                                                                                                                                                                                                                                                                                                                                                                                                                                           7\n",
       "Принимайте независимо от приема пищи.                                                                                                                                                                                                                                                                                                                                                                                                                                                                                                                                                                             7\n",
       "Принимайте вместе с продуктами, содержащими витамин С. Прием лютеина с витамином С может увеличить скорость всасывания лютеина. Прием лютеина с каротиноидами или нарингенином может снизить абсорбцию лютеина.                                                                                                                                                                                                                                                                                                                                                                                                   6\n",
       "Принимать во время еды. Порошок для перорального применения Endari (L-глютамин) следует смешать с 8 унциями воды или 4-6 унциями пищи комнатной температуры или холоднее, а затем употребить.                                                                                                                                                                                                                                                                                                                                                                                                                     4\n",
       "Принимайте независимо от приема пищи. Многие различные продукты содержат убидекаренон.                                                                                                                                                                                                                                                                                                                                                                                                                                                                                                                            3\n",
       "Принимайте независимо от приема пищи. Прием омега-3-карбоновых кислот с пищей с высоким содержанием жиров может увеличить всасывание эйкозапентаеновой кислоты (ЭПК).                                                                                                                                                                                                                                                                                                                                                                                                                                             3\n",
       "Избегайте употребления алкоголя. Алкоголь увеличивает вероятность покраснения и зуда. Принимать во время еды. Пища уменьшает желудочно-кишечные расстройства и раздражение.                                                                                                                                                                                                                                                                                                                                                                                                                                       2\n",
       "Принимайте независимо от приема пищи. Рекомендации варьируются от продукта к продукту.                                                                                                                                                                                                                                                                                                                                                                                                                                                                                                                            2\n",
       "Избегайте многовалентных ионов. Не настаивайте с элементными соединениями, которые можно восстановить, например, медью.                                                                                                                                                                                                                                                                                                                                                                                                                                                                                           1\n",
       "Избегайте зогенных продуктов. К ним относятся соя, маниока, капуста, брокколи, цветная капуста и другие крестоцветные овощи.                                                                                                                                                                                                                                                                                                                                                                                                                                                                                      1\n",
       "Пейте много жидкости. Принимать перед едой.                                                                                                                                                                                                                                                                                                                                                                                                                                                                                                                                                                       1\n",
       "Принимайте независимо от приема пищи. Прием добавок магния во время еды может снизить риск диареи.                                                                                                                                                                                                                                                                                                                                                                                                                                                                                                                1\n",
       "Пейте много жидкости. Данный лекарственный препарат может вызывать потерю жидкости.\\nПринимайте независимо от приема пищи.                                                                                                                                                                                                                                                                                                                                                                                                                                                                                        1\n",
       "Принимать во время еды.                                                                                                                                                                                                                                                                                                                                                                                                                                                                                                                                                                                           1\n",
       "Избегайте натуральной лакрицы. Корень солодки может индуцировать гипокалиемию у пациентов, принимающих сеннозиды.                                                                                                                                                                                                                                                                                                                                                                                                                                                                                                 1\n",
       "Принимайте независимо от приема пищи. Железо содержится во многих различных продуктах. Прием железа с пищей может уменьшить раздражение желудка.                                                                                                                                                                                                                                                                                                                                                                                                                                                                  1\n",
       "Принимайте независимо от приема пищи. Пероральный порошок бетаина следует смешивать с пищей или напитком, а затем употреблять.                                                                                                                                                                                                                                                                                                                                                                                                                                                                                    1\n",
       "Принимайте независимо от приема пищи. Продукты с высоким содержанием жиров могут увеличить усвоение витамина Е.                                                                                                                                                                                                                                                                                                                                                                                                                                                                                                   1\n",
       "Избегайте диетического авидина (гликопротеина, содержащегося в сырых яичных белках). Авидин связывается с биотином в желудочно-кишечном тракте, препятствуя всасыванию биотина. Авидин денатурируется при варке; Поэтому приготовленные яичные белки не снижают абсорбцию биотина.                                                                                                                                                                                                                                                                                                                                1\n",
       "Принимать во время еды. Прием раствора левокарнитина перорально во время еды может уменьшить желудочно-кишечные расстройства, такие как тошнота, рвота и спазмы                                                                                                                                                                                                                                                                                                                                                                                                                                                   1\n",
       "Избегайте молока и молочных продуктов. Отделите употребление цинка от этих продуктов не менее чем за 2 часа до приема. Отдельно от приема на 2 часа, если эти препараты также содержат фосфор.\\nНе принимайте с отрубями и продуктами с высоким содержанием клетчатки. Для оптимального усвоения принимайте цинк не менее чем за 2 часа до или после употребления продуктов с высоким содержанием клетчатки.\\nПринимать натощак. Принимайте не менее чем за 1 час до и через 2 часа после еды для оптимального усвоения. Цинк можно принимать с пищей для уменьшения расстройства желудочно-кишечного тракта      1\n",
       "Name: count, dtype: int64"
      ]
     },
     "execution_count": 7,
     "metadata": {},
     "output_type": "execute_result"
    }
   ],
   "source": [
    "df['Взаимодействие с пищевыми продуктами'].value_counts()"
   ]
  },
  {
   "cell_type": "code",
   "execution_count": 8,
   "metadata": {},
   "outputs": [
    {
     "data": {
      "text/plain": [
       "Index(['Взаимодействия не найдены.', 'Принимать во время еды.',\n",
       "       'Принимайте независимо от приема пищи.',\n",
       "       'Принимайте вместе с продуктами, содержащими витамин С. Прием лютеина с витамином С может увеличить скорость всасывания лютеина. Прием лютеина с каротиноидами или нарингенином может снизить абсорбцию лютеина.',\n",
       "       'Принимать во время еды. Порошок для перорального применения Endari (L-глютамин) следует смешать с 8 унциями воды или 4-6 унциями пищи комнатной температуры или холоднее, а затем употребить.',\n",
       "       'Принимайте независимо от приема пищи. Многие различные продукты содержат убидекаренон.',\n",
       "       'Принимайте независимо от приема пищи. Прием омега-3-карбоновых кислот с пищей с высоким содержанием жиров может увеличить всасывание эйкозапентаеновой кислоты (ЭПК).',\n",
       "       'Избегайте употребления алкоголя. Алкоголь увеличивает вероятность покраснения и зуда. Принимать во время еды. Пища уменьшает желудочно-кишечные расстройства и раздражение.',\n",
       "       'Принимайте независимо от приема пищи. Рекомендации варьируются от продукта к продукту.',\n",
       "       'Избегайте многовалентных ионов. Не настаивайте с элементными соединениями, которые можно восстановить, например, медью.',\n",
       "       'Избегайте зогенных продуктов. К ним относятся соя, маниока, капуста, брокколи, цветная капуста и другие крестоцветные овощи.',\n",
       "       'Пейте много жидкости. Принимать перед едой.',\n",
       "       'Принимайте независимо от приема пищи. Прием добавок магния во время еды может снизить риск диареи.',\n",
       "       'Пейте много жидкости. Данный лекарственный препарат может вызывать потерю жидкости.\\nПринимайте независимо от приема пищи.',\n",
       "       'Принимать во время еды. ',\n",
       "       'Избегайте натуральной лакрицы. Корень солодки может индуцировать гипокалиемию у пациентов, принимающих сеннозиды.',\n",
       "       'Принимайте независимо от приема пищи. Железо содержится во многих различных продуктах. Прием железа с пищей может уменьшить раздражение желудка.',\n",
       "       'Принимайте независимо от приема пищи. Пероральный порошок бетаина следует смешивать с пищей или напитком, а затем употреблять.',\n",
       "       'Принимайте независимо от приема пищи. Продукты с высоким содержанием жиров могут увеличить усвоение витамина Е.',\n",
       "       'Избегайте диетического авидина (гликопротеина, содержащегося в сырых яичных белках). Авидин связывается с биотином в желудочно-кишечном тракте, препятствуя всасыванию биотина. Авидин денатурируется при варке; Поэтому приготовленные яичные белки не снижают абсорбцию биотина.',\n",
       "       'Принимать во время еды. Прием раствора левокарнитина перорально во время еды может уменьшить желудочно-кишечные расстройства, такие как тошнота, рвота и спазмы',\n",
       "       'Избегайте молока и молочных продуктов. Отделите употребление цинка от этих продуктов не менее чем за 2 часа до приема. Отдельно от приема на 2 часа, если эти препараты также содержат фосфор.\\nНе принимайте с отрубями и продуктами с высоким содержанием клетчатки. Для оптимального усвоения принимайте цинк не менее чем за 2 часа до или после употребления продуктов с высоким содержанием клетчатки.\\nПринимать натощак. Принимайте не менее чем за 1 час до и через 2 часа после еды для оптимального усвоения. Цинк можно принимать с пищей для уменьшения расстройства желудочно-кишечного тракта'],\n",
       "      dtype='object', name='Взаимодействие с пищевыми продуктами')"
      ]
     },
     "execution_count": 8,
     "metadata": {},
     "output_type": "execute_result"
    }
   ],
   "source": [
    "df['Взаимодействие с пищевыми продуктами'].value_counts().index"
   ]
  },
  {
   "cell_type": "markdown",
   "metadata": {},
   "source": [
    "Тут выделены несколько групп. Объединим их."
   ]
  },
  {
   "cell_type": "code",
   "execution_count": 9,
   "metadata": {},
   "outputs": [],
   "source": [
    "mapping = {\n",
    "    \"Взаимодействия не найдены\": \"Взаимодействия не найдены\",\n",
    "    \"Принимать во время еды\": \"Принимать во время еды\",\n",
    "    \"Принимайте независимо от приема пищи\": \"Принимайте независимо от приема пищи\",\n",
    "    \"Принимайте вместе с\": \"Сочетаемость - с чем принимать\",\n",
    "    \"Избегайте\": \"Что необходимо убрать при приеме\",\n",
    "    \"Пейте много жидкости\": \"Больше воды\",\n",
    "}\n",
    "\n",
    "def mapping(text, mapp=mapping):\n",
    "    for k, v in mapp.items():\n",
    "        if text.startswith(k):\n",
    "            return v\n",
    "    return 0"
   ]
  },
  {
   "cell_type": "code",
   "execution_count": 10,
   "metadata": {},
   "outputs": [],
   "source": [
    "df[\"features\"] = df['Взаимодействие с пищевыми продуктами'].apply(mapping)"
   ]
  },
  {
   "cell_type": "code",
   "execution_count": 11,
   "metadata": {},
   "outputs": [],
   "source": [
    "data = df['features'].value_counts().reset_index()"
   ]
  },
  {
   "cell_type": "code",
   "execution_count": 12,
   "metadata": {},
   "outputs": [
    {
     "data": {
      "text/plain": [
       "features\n",
       "Взаимодействия не найдены               0.874667\n",
       "Принимайте независимо от приема пищи    0.050667\n",
       "Принимать во время еды                  0.034667\n",
       "Что необходимо убрать при приеме        0.018667\n",
       "Сочетаемость - с чем принимать          0.016000\n",
       "Больше воды                             0.005333\n",
       "Name: proportion, dtype: float64"
      ]
     },
     "execution_count": 12,
     "metadata": {},
     "output_type": "execute_result"
    }
   ],
   "source": [
    "df[\"features\"].value_counts(normalize=True)"
   ]
  },
  {
   "cell_type": "code",
   "execution_count": 13,
   "metadata": {},
   "outputs": [
    {
     "data": {
      "text/html": [
       "<div>\n",
       "<style scoped>\n",
       "    .dataframe tbody tr th:only-of-type {\n",
       "        vertical-align: middle;\n",
       "    }\n",
       "\n",
       "    .dataframe tbody tr th {\n",
       "        vertical-align: top;\n",
       "    }\n",
       "\n",
       "    .dataframe thead th {\n",
       "        text-align: right;\n",
       "    }\n",
       "</style>\n",
       "<table border=\"1\" class=\"dataframe\">\n",
       "  <thead>\n",
       "    <tr style=\"text-align: right;\">\n",
       "      <th></th>\n",
       "      <th>features</th>\n",
       "      <th>count</th>\n",
       "    </tr>\n",
       "  </thead>\n",
       "  <tbody>\n",
       "    <tr>\n",
       "      <th>0</th>\n",
       "      <td>Взаимодействия не найдены</td>\n",
       "      <td>328</td>\n",
       "    </tr>\n",
       "    <tr>\n",
       "      <th>1</th>\n",
       "      <td>Принимайте независимо от приема пищи</td>\n",
       "      <td>19</td>\n",
       "    </tr>\n",
       "    <tr>\n",
       "      <th>2</th>\n",
       "      <td>Принимать во время еды</td>\n",
       "      <td>13</td>\n",
       "    </tr>\n",
       "    <tr>\n",
       "      <th>3</th>\n",
       "      <td>Что необходимо убрать при приеме</td>\n",
       "      <td>7</td>\n",
       "    </tr>\n",
       "    <tr>\n",
       "      <th>4</th>\n",
       "      <td>Сочетаемость - с чем принимать</td>\n",
       "      <td>6</td>\n",
       "    </tr>\n",
       "    <tr>\n",
       "      <th>5</th>\n",
       "      <td>Больше воды</td>\n",
       "      <td>2</td>\n",
       "    </tr>\n",
       "  </tbody>\n",
       "</table>\n",
       "</div>"
      ],
      "text/plain": [
       "                               features  count\n",
       "0             Взаимодействия не найдены    328\n",
       "1  Принимайте независимо от приема пищи     19\n",
       "2                Принимать во время еды     13\n",
       "3      Что необходимо убрать при приеме      7\n",
       "4        Сочетаемость - с чем принимать      6\n",
       "5                           Больше воды      2"
      ]
     },
     "execution_count": 13,
     "metadata": {},
     "output_type": "execute_result"
    }
   ],
   "source": [
    "data"
   ]
  },
  {
   "cell_type": "code",
   "execution_count": 15,
   "metadata": {},
   "outputs": [
    {
     "data": {
      "image/png": "[encoded data removed]",
      "text/plain": [
       "<Figure size 640x480 with 1 Axes>"
      ]
     },
     "metadata": {},
     "output_type": "display_data"
    }
   ],
   "source": [
    "ax = sns.barplot(data, x=\"features\", y=\"count\", errorbar=None)\n",
    "ax.bar_label(ax.containers[0], fontsize=10)\n",
    "plt.xticks(rotation=45, ha=\"right\");"
   ]
  },
  {
   "cell_type": "markdown",
   "metadata": {},
   "source": [
    "Мы видим, что не надено взаимодействий для 87% ингредиентов. Из остальных - самое частотное - \"прием независимо от приема пищи\". Повышенное количество воды требуется только при приеме БАДов, содержащих только 2 ингредиента. "
   ]
  }
 ],
 "metadata": {
  "kernelspec": {
   "display_name": "Python 3",
   "language": "python",
   "name": "python3"
  },
  "language_info": {
   "codemirror_mode": {
    "name": "ipython",
    "version": 3
   },
   "file_extension": ".py",
   "mimetype": "text/x-python",
   "name": "python",
   "nbconvert_exporter": "python",
   "pygments_lexer": "ipython3",
   "version": "3.9.16"
  }
 },
 "nbformat": 4,
 "nbformat_minor": 2
}

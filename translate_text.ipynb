{
  "nbformat": 4,
  "nbformat_minor": 0,
  "metadata": {
    "colab": {
      "provenance": [],
      "authorship_tag": "ABX9TyPawhWfNtmBwPI3LnD/xajm",
      "include_colab_link": true
    },
    "kernelspec": {
      "name": "python3",
      "display_name": "Python 3"
    },
    "language_info": {
      "name": "python"
    }
  },
  "cells": [
    {
      "cell_type": "markdown",
      "metadata": {
        "id": "view-in-github",
        "colab_type": "text"
      },
      "source": [
        "<a href=\"https://colab.research.google.com/github/asyaaa17/NutriPharmCheck/blob/main/translate_text.ipynb\" target=\"_parent\"><img src=\"https://colab.research.google.com/assets/colab-badge.svg\" alt=\"Open In Colab\"/></a>"
      ]
    },
    {
      "cell_type": "code",
      "execution_count": null,
      "metadata": {
        "id": "4v7X1Jjt4NpN"
      },
      "outputs": [],
      "source": [
        "!pip install openpyxl\n",
        "!pip install googletrans==4.0.0-rc1\n"
      ]
    },
    {
      "cell_type": "code",
      "source": [
        "!pip install deep_translator\n"
      ],
      "metadata": {
        "id": "8a_l6JPe6yUg"
      },
      "execution_count": null,
      "outputs": []
    },
    {
      "cell_type": "code",
      "source": [
        "from deep_translator import GoogleTranslator\n",
        "import pandas as pd\n",
        "from openpyxl import Workbook\n",
        "\n",
        "file_path = 'descript.xlsx'\n",
        "\n",
        "# Чтение файла\n",
        "df = pd.read_excel(file_path)\n",
        "\n",
        "# Переводчик\n",
        "translator = GoogleTranslator(source='en', target='ru')\n",
        "\n",
        "# Функция для безопасного перевода\n",
        "def safe_translate(text):\n",
        "    try:\n",
        "        return translator.translate(text)\n",
        "    except Exception as e:\n",
        "        print(f\"Не удалось перевести: {text}. Ошибка: {e}\")\n",
        "        return text\n",
        "\n",
        "# Переводим содержимое каждой ячейки\n",
        "df_translated = df.applymap(lambda x: safe_translate(x) if isinstance(x, str) else x)\n",
        "\n",
        "# Сохраняем в новый файл\n",
        "translated_file_path = 'translated_file.xlsx'\n",
        "df_translated.to_excel(translated_file_path, index=False)\n",
        "\n",
        "print(\"Перевод завершен. Файл сохранен как:\", translated_file_path)"
      ],
      "metadata": {
        "id": "GXiunS3X4QXX",
        "colab": {
          "base_uri": "https://localhost:8080/"
        },
        "outputId": "48bc37d2-b877-4d94-dfce-26958b9ebf97"
      },
      "execution_count": null,
      "outputs": [
        {
          "output_type": "stream",
          "name": "stdout",
          "text": [
            "Перевод завершен. Файл сохранен как: translated_file.xlsx\n"
          ]
        }
      ]
    },
    {
      "cell_type": "code",
      "source": [
        "from deep_translator import GoogleTranslator\n",
        "import pandas as pd\n",
        "\n",
        "# Установите необходимые библиотеки, если они еще не установлены\n",
        "!pip install pandas deep_translator\n",
        "\n",
        "# Загрузите файл 'vzaim.xlsx' в Colab\n",
        "\n",
        "file_path = 'vzaim.xlsx'  # Путь к файлу\n",
        "\n",
        "# Чтение файла\n",
        "df = pd.read_excel(file_path)\n",
        "\n",
        "# Переводчик\n",
        "translator = GoogleTranslator(source='en', target='ru')\n",
        "\n",
        "# Функция для безопасного перевода\n",
        "def safe_translate(text):\n",
        "    try:\n",
        "        return translator.translate(text)\n",
        "    except Exception as e:\n",
        "        print(f\"Не удалось перевести: {text}. Ошибка: {e}\")\n",
        "        return text\n",
        "\n",
        "# Переводим содержимое столбца 'Описание Взаимодействия'\n",
        "df['Описание Взаимодействия'] = df['Описание Взаимодействия'].apply(safe_translate)\n",
        "\n",
        "# Сохраняем в новый файл\n",
        "translated_file_path = 'translated_vzaim.xlsx'\n",
        "df.to_excel(translated_file_path, index=False)\n",
        "\n",
        "print(\"Перевод завершен. Файл сохранен как:\", translated_file_path)"
      ],
      "metadata": {
        "colab": {
          "base_uri": "https://localhost:8080/"
        },
        "id": "eewy3rzREgL3",
        "outputId": "a0d715e8-ede2-4377-8af0-973894fc1e86"
      },
      "execution_count": null,
      "outputs": [
        {
          "output_type": "stream",
          "name": "stdout",
          "text": [
            "Requirement already satisfied: pandas in /usr/local/lib/python3.10/dist-packages (1.5.3)\n",
            "Requirement already satisfied: deep_translator in /usr/local/lib/python3.10/dist-packages (1.11.4)\n",
            "Requirement already satisfied: python-dateutil>=2.8.1 in /usr/local/lib/python3.10/dist-packages (from pandas) (2.8.2)\n",
            "Requirement already satisfied: pytz>=2020.1 in /usr/local/lib/python3.10/dist-packages (from pandas) (2023.3.post1)\n",
            "Requirement already satisfied: numpy>=1.21.0 in /usr/local/lib/python3.10/dist-packages (from pandas) (1.23.5)\n",
            "Requirement already satisfied: beautifulsoup4<5.0.0,>=4.9.1 in /usr/local/lib/python3.10/dist-packages (from deep_translator) (4.11.2)\n",
            "Requirement already satisfied: requests<3.0.0,>=2.23.0 in /usr/local/lib/python3.10/dist-packages (from deep_translator) (2.31.0)\n",
            "Requirement already satisfied: soupsieve>1.2 in /usr/local/lib/python3.10/dist-packages (from beautifulsoup4<5.0.0,>=4.9.1->deep_translator) (2.5)\n",
            "Requirement already satisfied: six>=1.5 in /usr/local/lib/python3.10/dist-packages (from python-dateutil>=2.8.1->pandas) (1.16.0)\n",
            "Requirement already satisfied: charset-normalizer<4,>=2 in /usr/local/lib/python3.10/dist-packages (from requests<3.0.0,>=2.23.0->deep_translator) (3.3.2)\n",
            "Requirement already satisfied: idna<4,>=2.5 in /usr/local/lib/python3.10/dist-packages (from requests<3.0.0,>=2.23.0->deep_translator) (2.10)\n",
            "Requirement already satisfied: urllib3<3,>=1.21.1 in /usr/local/lib/python3.10/dist-packages (from requests<3.0.0,>=2.23.0->deep_translator) (2.0.7)\n",
            "Requirement already satisfied: certifi>=2017.4.17 in /usr/local/lib/python3.10/dist-packages (from requests<3.0.0,>=2.23.0->deep_translator) (2023.11.17)\n",
            "Перевод завершен. Файл сохранен как: translated_vzaim.xlsx\n"
          ]
        }
      ]
    },
    {
      "cell_type": "code",
      "source": [],
      "metadata": {
        "id": "k-lnDv9WeBNq"
      },
      "execution_count": null,
      "outputs": []
    },
    {
      "cell_type": "code",
      "source": [
        "from deep_translator import GoogleTranslator\n",
        "import pandas as pd\n",
        "\n",
        "# Установите необходимые библиотеки, если они еще не установлены\n",
        "!pip install pandas deep_translator\n",
        "\n",
        "# Загрузите файл 'lecarstva.xlsx' в Colab\n",
        "\n",
        "file_path = 'lecarstva.xlsx'  # Путь к файлу\n",
        "\n",
        "# Чтение файла\n",
        "df = pd.read_excel(file_path)\n",
        "\n",
        "# Переводчик\n",
        "translator = GoogleTranslator(source='en', target='ru')\n",
        "\n",
        "# Функция для безопасного перевода\n",
        "def safe_translate(text):\n",
        "    try:\n",
        "        return translator.translate(text)\n",
        "    except Exception as e:\n",
        "        print(f\"Не удалось перевести: {text}. Ошибка: {e}\")\n",
        "        return text\n",
        "\n",
        "# Переводим содержимое столбца 'Название Лекарства'\n",
        "df['Название Лекарства'] = df['Название Лекарства'].apply(safe_translate)\n",
        "\n",
        "# Сохраняем в новый файл\n",
        "translated_file_path = 'translated_lecarstva.xlsx'\n",
        "df.to_excel(translated_file_path, index=False)\n",
        "\n",
        "print(\"Перевод завершен. Файл сохранен как:\", translated_file_path)"
      ],
      "metadata": {
        "colab": {
          "base_uri": "https://localhost:8080/"
        },
        "id": "pRWoNWlwpiUj",
        "outputId": "888c1f92-66fa-4fa2-e476-95a6cf24a2d7"
      },
      "execution_count": null,
      "outputs": [
        {
          "output_type": "stream",
          "name": "stdout",
          "text": [
            "Requirement already satisfied: pandas in /usr/local/lib/python3.10/dist-packages (1.5.3)\n",
            "Requirement already satisfied: deep_translator in /usr/local/lib/python3.10/dist-packages (1.11.4)\n",
            "Requirement already satisfied: python-dateutil>=2.8.1 in /usr/local/lib/python3.10/dist-packages (from pandas) (2.8.2)\n",
            "Requirement already satisfied: pytz>=2020.1 in /usr/local/lib/python3.10/dist-packages (from pandas) (2023.3.post1)\n",
            "Requirement already satisfied: numpy>=1.21.0 in /usr/local/lib/python3.10/dist-packages (from pandas) (1.23.5)\n",
            "Requirement already satisfied: beautifulsoup4<5.0.0,>=4.9.1 in /usr/local/lib/python3.10/dist-packages (from deep_translator) (4.11.2)\n",
            "Requirement already satisfied: requests<3.0.0,>=2.23.0 in /usr/local/lib/python3.10/dist-packages (from deep_translator) (2.31.0)\n",
            "Requirement already satisfied: soupsieve>1.2 in /usr/local/lib/python3.10/dist-packages (from beautifulsoup4<5.0.0,>=4.9.1->deep_translator) (2.5)\n",
            "Requirement already satisfied: six>=1.5 in /usr/local/lib/python3.10/dist-packages (from python-dateutil>=2.8.1->pandas) (1.16.0)\n",
            "Requirement already satisfied: charset-normalizer<4,>=2 in /usr/local/lib/python3.10/dist-packages (from requests<3.0.0,>=2.23.0->deep_translator) (3.3.2)\n",
            "Requirement already satisfied: idna<4,>=2.5 in /usr/local/lib/python3.10/dist-packages (from requests<3.0.0,>=2.23.0->deep_translator) (2.10)\n",
            "Requirement already satisfied: urllib3<3,>=1.21.1 in /usr/local/lib/python3.10/dist-packages (from requests<3.0.0,>=2.23.0->deep_translator) (2.0.7)\n",
            "Requirement already satisfied: certifi>=2017.4.17 in /usr/local/lib/python3.10/dist-packages (from requests<3.0.0,>=2.23.0->deep_translator) (2023.11.17)\n",
            "Перевод завершен. Файл сохранен как: translated_lecarstva.xlsx\n"
          ]
        }
      ]
    }
  ]
}
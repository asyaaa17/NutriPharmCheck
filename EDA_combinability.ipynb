{
 "cells": [
  {
   "cell_type": "markdown",
   "metadata": {},
   "source": [
    "### Исследование таблицы Сочетаемость БАД и лекарства"
   ]
  },
  {
   "cell_type": "code",
   "execution_count": 1,
   "metadata": {},
   "outputs": [],
   "source": [
    "import pandas as pd\n",
    "from tqdm import tqdm\n",
    "\n",
    "tqdm.pandas()\n",
    "\n",
    "import seaborn as sns\n",
    "import matplotlib.pyplot as plt"
   ]
  },
  {
   "cell_type": "code",
   "execution_count": 2,
   "metadata": {},
   "outputs": [],
   "source": [
    "df = pd.read_excel(\n",
    "    \"./data/new_vitamins.xlsx\", sheet_name=\"Сочетаемость БАД и лекарства\"\n",
    ")"
   ]
  },
  {
   "cell_type": "code",
   "execution_count": 3,
   "metadata": {},
   "outputs": [
    {
     "data": {
      "text/html": [
       "<div>\n",
       "<style scoped>\n",
       "    .dataframe tbody tr th:only-of-type {\n",
       "        vertical-align: middle;\n",
       "    }\n",
       "\n",
       "    .dataframe tbody tr th {\n",
       "        vertical-align: top;\n",
       "    }\n",
       "\n",
       "    .dataframe thead th {\n",
       "        text-align: right;\n",
       "    }\n",
       "</style>\n",
       "<table border=\"1\" class=\"dataframe\">\n",
       "  <thead>\n",
       "    <tr style=\"text-align: right;\">\n",
       "      <th></th>\n",
       "      <th>ID Взаимодействия</th>\n",
       "      <th>ID Ингредиента БАДа</th>\n",
       "      <th>ID Лекарства</th>\n",
       "      <th>Описание Взаимодействия</th>\n",
       "      <th>Влияние на Усвояемость</th>\n",
       "    </tr>\n",
       "  </thead>\n",
       "  <tbody>\n",
       "    <tr>\n",
       "      <th>4280</th>\n",
       "      <td>I000004281</td>\n",
       "      <td>V000000010</td>\n",
       "      <td>D00140</td>\n",
       "      <td>Пиридоксин может снижать скорость выведения аз...</td>\n",
       "      <td>негативное</td>\n",
       "    </tr>\n",
       "    <tr>\n",
       "      <th>122</th>\n",
       "      <td>I000000123</td>\n",
       "      <td>V000000014</td>\n",
       "      <td>D00107</td>\n",
       "      <td>Метаболизм витамина D может снижаться при соче...</td>\n",
       "      <td>негативное</td>\n",
       "    </tr>\n",
       "    <tr>\n",
       "      <th>1913</th>\n",
       "      <td>I000001914</td>\n",
       "      <td>V000000008</td>\n",
       "      <td>D01662</td>\n",
       "      <td>Концентрация трастузумаба эмтанзина в сыворотк...</td>\n",
       "      <td>позитивное</td>\n",
       "    </tr>\n",
       "  </tbody>\n",
       "</table>\n",
       "</div>"
      ],
      "text/plain": [
       "     ID Взаимодействия ID Ингредиента БАДа ID Лекарства   \n",
       "4280        I000004281          V000000010       D00140  \\\n",
       "122         I000000123          V000000014       D00107   \n",
       "1913        I000001914          V000000008       D01662   \n",
       "\n",
       "                                Описание Взаимодействия Влияние на Усвояемость  \n",
       "4280  Пиридоксин может снижать скорость выведения аз...             негативное  \n",
       "122   Метаболизм витамина D может снижаться при соче...             негативное  \n",
       "1913  Концентрация трастузумаба эмтанзина в сыворотк...             позитивное  "
      ]
     },
     "execution_count": 3,
     "metadata": {},
     "output_type": "execute_result"
    }
   ],
   "source": [
    "df.sample(3)"
   ]
  },
  {
   "cell_type": "code",
   "execution_count": 4,
   "metadata": {},
   "outputs": [
    {
     "name": "stdout",
     "output_type": "stream",
     "text": [
      "<class 'pandas.core.frame.DataFrame'>\n",
      "RangeIndex: 7725 entries, 0 to 7724\n",
      "Data columns (total 5 columns):\n",
      " #   Column                   Non-Null Count  Dtype \n",
      "---  ------                   --------------  ----- \n",
      " 0   ID Взаимодействия        7725 non-null   object\n",
      " 1   ID Ингредиента БАДа      7725 non-null   object\n",
      " 2   ID Лекарства             7725 non-null   object\n",
      " 3   Описание Взаимодействия  7725 non-null   object\n",
      " 4   Влияние на Усвояемость   7725 non-null   object\n",
      "dtypes: object(5)\n",
      "memory usage: 301.9+ KB\n"
     ]
    }
   ],
   "source": [
    "df.info()"
   ]
  },
  {
   "cell_type": "markdown",
   "metadata": {},
   "source": [
    "В БД в данный момент собрано 7725 комбинаций лекарственных препаратов с витаминами и минералами. Описаны эффекты от их взаимодействия, определен тип влияния на усвояемость - позитивный или негативный.\n",
    "\n",
    "На данном этапе эта таблица интересна с позиции распределения позитивного и негативного эффекта от сочетания лекарства и ингредиента."
   ]
  },
  {
   "cell_type": "code",
   "execution_count": 5,
   "metadata": {},
   "outputs": [
    {
     "data": {
      "text/plain": [
       "Влияние на Усвояемость\n",
       "негативное    0.842589\n",
       "позитивное    0.157411\n",
       "Name: proportion, dtype: float64"
      ]
     },
     "execution_count": 5,
     "metadata": {},
     "output_type": "execute_result"
    }
   ],
   "source": [
    "df[\"Влияние на Усвояемость\"].value_counts(normalize=True)"
   ]
  },
  {
   "cell_type": "markdown",
   "metadata": {},
   "source": [
    "84% сочетаний имеют негативный эффект."
   ]
  },
  {
   "cell_type": "code",
   "execution_count": 6,
   "metadata": {},
   "outputs": [
    {
     "data": {
      "text/plain": [
       "Описание Взаимодействия\n",
       "Метаболизм Дувелисиба может снижаться при сочетании с ниацином.                                                                                                                    2\n",
       "Риск или тяжесть миопатии, рабдомиолиза и миоглобинурии могут повышаться при сочетании ниацина с тербинафином.                                                                     2\n",
       "Метаболизм прометазина может снижаться при сочетании с ниацином.                                                                                                                   2\n",
       "Метаболизм тенофовира алафенамида может снижаться при сочетании с ниацином.                                                                                                        2\n",
       "Метаболизм дулоксетина может снижаться при сочетании с ниацином.                                                                                                                   2\n",
       "                                                                                                                                                                                  ..\n",
       "Метаболизм флувастатина может снижаться при сочетании с генистеином.                                                                                                               1\n",
       "Флутамид может снижать скорость выведения инозитола, что может привести к повышению его уровня в сыворотке.                                                                        1\n",
       "Флутамид может снижать скорость выведения левокарнитина, что может привести к повышению его уровня в сыворотке.                                                                    1\n",
       "Флутамид может снижать скорость выведения филлохинона, что может привести к повышению его уровня в сыворотке.                                                                      1\n",
       "Декагидрат трицитрата тетражелеза может вызывать снижение абсорбции липоевой кислоты, что приводит к снижению концентрации в сыворотке и потенциально к снижению эффективности.    1\n",
       "Name: count, Length: 7271, dtype: int64"
      ]
     },
     "execution_count": 6,
     "metadata": {},
     "output_type": "execute_result"
    }
   ],
   "source": [
    "df[\"Описание Взаимодействия\"].value_counts()"
   ]
  },
  {
   "cell_type": "markdown",
   "metadata": {},
   "source": [
    "Как видно из посчета количества вхождений, очень мало описаний взаимодействия совпадают. Для текущего вида БД можно оставить эти данные в таком виде. Но для дальнейшего расширения нужна формализация этих описаний."
   ]
  },
  {
   "cell_type": "code",
   "execution_count": 7,
   "metadata": {},
   "outputs": [
    {
     "data": {
      "text/plain": [
       "ID Ингредиента БАДа\n",
       "V000000008    0.119741\n",
       "V000000006    0.101877\n",
       "V000000025    0.094757\n",
       "V000000012    0.090874\n",
       "V000000132    0.083883\n",
       "V000000019    0.079482\n",
       "V000000188    0.077799\n",
       "V000000010    0.076634\n",
       "V000000016    0.050485\n",
       "V000000034    0.048803\n",
       "V000000017    0.042848\n",
       "V000000014    0.025243\n",
       "V000000038    0.022783\n",
       "V000000037    0.016570\n",
       "V000000033    0.012945\n",
       "V000000039    0.011909\n",
       "V000000005    0.008544\n",
       "V000000009    0.007767\n",
       "V000000063    0.007120\n",
       "V000000004    0.005955\n",
       "V000000013    0.005566\n",
       "V000000007    0.004272\n",
       "V000000041    0.003495\n",
       "V000000032    0.000259\n",
       "V000000020    0.000129\n",
       "V000000028    0.000129\n",
       "V000000024    0.000129\n",
       "Name: proportion, dtype: float64"
      ]
     },
     "execution_count": 7,
     "metadata": {},
     "output_type": "execute_result"
    }
   ],
   "source": [
    "df[\"ID Ингредиента БАДа\"].value_counts(normalize=True)"
   ]
  },
  {
   "cell_type": "markdown",
   "metadata": {},
   "source": [
    "Максимальное количество сочетаний описано в БД для витаминов B3(11.97%)б  В12(10,18%), L-карнитина(9,47%), В12(9,08%) и генистеина(8,38%)."
   ]
  },
  {
   "cell_type": "code",
   "execution_count": 8,
   "metadata": {},
   "outputs": [
    {
     "data": {
      "text/plain": [
       "ID Лекарства\n",
       "D00431    16\n",
       "D01063    14\n",
       "D01739    14\n",
       "D00264    14\n",
       "D00405    14\n",
       "          ..\n",
       "D00645     1\n",
       "D00654     1\n",
       "D01139     1\n",
       "D00690     1\n",
       "D01602     1\n",
       "Name: count, Length: 1761, dtype: int64"
      ]
     },
     "execution_count": 8,
     "metadata": {},
     "output_type": "execute_result"
    }
   ],
   "source": [
    "df[\"ID Лекарства\"].value_counts()"
   ]
  },
  {
   "cell_type": "markdown",
   "metadata": {},
   "source": [
    "Больше всего сочетаний описано для Ингредиента V000000008 (B3) и лекарства ID Лекарства D00431 (Циклоспорин). Посмотрим, как часто эти два признака встречаются вместе и как влияют друг на друга."
   ]
  },
  {
   "cell_type": "code",
   "execution_count": 9,
   "metadata": {},
   "outputs": [
    {
     "data": {
      "text/html": [
       "<div>\n",
       "<style scoped>\n",
       "    .dataframe tbody tr th:only-of-type {\n",
       "        vertical-align: middle;\n",
       "    }\n",
       "\n",
       "    .dataframe tbody tr th {\n",
       "        vertical-align: top;\n",
       "    }\n",
       "\n",
       "    .dataframe thead th {\n",
       "        text-align: right;\n",
       "    }\n",
       "</style>\n",
       "<table border=\"1\" class=\"dataframe\">\n",
       "  <thead>\n",
       "    <tr style=\"text-align: right;\">\n",
       "      <th></th>\n",
       "      <th>ID Взаимодействия</th>\n",
       "      <th>ID Ингредиента БАДа</th>\n",
       "      <th>ID Лекарства</th>\n",
       "      <th>Описание Взаимодействия</th>\n",
       "      <th>Влияние на Усвояемость</th>\n",
       "    </tr>\n",
       "  </thead>\n",
       "  <tbody>\n",
       "    <tr>\n",
       "      <th>420</th>\n",
       "      <td>I000000421</td>\n",
       "      <td>V000000008</td>\n",
       "      <td>D00431</td>\n",
       "      <td>Концентрация циклоспорина в сыворотке крови мо...</td>\n",
       "      <td>позитивное</td>\n",
       "    </tr>\n",
       "    <tr>\n",
       "      <th>430</th>\n",
       "      <td>I000000431</td>\n",
       "      <td>V000000008</td>\n",
       "      <td>D00431</td>\n",
       "      <td>Концентрация циклоспорина в сыворотке крови мо...</td>\n",
       "      <td>позитивное</td>\n",
       "    </tr>\n",
       "  </tbody>\n",
       "</table>\n",
       "</div>"
      ],
      "text/plain": [
       "    ID Взаимодействия ID Ингредиента БАДа ID Лекарства   \n",
       "420        I000000421          V000000008       D00431  \\\n",
       "430        I000000431          V000000008       D00431   \n",
       "\n",
       "                               Описание Взаимодействия Влияние на Усвояемость  \n",
       "420  Концентрация циклоспорина в сыворотке крови мо...             позитивное  \n",
       "430  Концентрация циклоспорина в сыворотке крови мо...             позитивное  "
      ]
     },
     "execution_count": 9,
     "metadata": {},
     "output_type": "execute_result"
    }
   ],
   "source": [
    "df[(df[\"ID Ингредиента БАДа\"]=='V000000008') & (df[\"ID Лекарства\"]==\"D00431\")]"
   ]
  },
  {
   "cell_type": "markdown",
   "metadata": {},
   "source": [
    "Необходимо более подробно исследовать сочетания."
   ]
  }
 ],
 "metadata": {
  "kernelspec": {
   "display_name": "Python 3",
   "language": "python",
   "name": "python3"
  },
  "language_info": {
   "codemirror_mode": {
    "name": "ipython",
    "version": 3
   },
   "file_extension": ".py",
   "mimetype": "text/x-python",
   "name": "python",
   "nbconvert_exporter": "python",
   "pygments_lexer": "ipython3",
   "version": "3.9.16"
  }
 },
 "nbformat": 4,
 "nbformat_minor": 2
}
